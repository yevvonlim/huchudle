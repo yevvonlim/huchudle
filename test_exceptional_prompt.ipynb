{
 "cells": [
  {
   "cell_type": "code",
   "execution_count": 1,
   "metadata": {},
   "outputs": [
    {
     "data": {
      "text/plain": [
       "DiT(\n",
       "  (x_embedder): PatchEmbed(\n",
       "    (proj): Conv2d(5, 1024, kernel_size=(2, 2), stride=(2, 2))\n",
       "    (norm): Identity()\n",
       "  )\n",
       "  (t_embedder): TimestepEmbedder(\n",
       "    (mlp): Sequential(\n",
       "      (0): Linear(in_features=256, out_features=1024, bias=True)\n",
       "      (1): SiLU()\n",
       "      (2): Linear(in_features=1024, out_features=1024, bias=True)\n",
       "    )\n",
       "  )\n",
       "  (text_encoder): CLIPTextModel(\n",
       "    (text_model): CLIPTextTransformer(\n",
       "      (embeddings): CLIPTextEmbeddings(\n",
       "        (token_embedding): Embedding(49408, 1024)\n",
       "        (position_embedding): Embedding(77, 1024)\n",
       "      )\n",
       "      (encoder): CLIPEncoder(\n",
       "        (layers): ModuleList(\n",
       "          (0-22): 23 x CLIPEncoderLayer(\n",
       "            (self_attn): CLIPAttention(\n",
       "              (k_proj): Linear(in_features=1024, out_features=1024, bias=True)\n",
       "              (v_proj): Linear(in_features=1024, out_features=1024, bias=True)\n",
       "              (q_proj): Linear(in_features=1024, out_features=1024, bias=True)\n",
       "              (out_proj): Linear(in_features=1024, out_features=1024, bias=True)\n",
       "            )\n",
       "            (layer_norm1): LayerNorm((1024,), eps=1e-05, elementwise_affine=True)\n",
       "            (mlp): CLIPMLP(\n",
       "              (activation_fn): GELUActivation()\n",
       "              (fc1): Linear(in_features=1024, out_features=4096, bias=True)\n",
       "              (fc2): Linear(in_features=4096, out_features=1024, bias=True)\n",
       "            )\n",
       "            (layer_norm2): LayerNorm((1024,), eps=1e-05, elementwise_affine=True)\n",
       "          )\n",
       "        )\n",
       "      )\n",
       "      (final_layer_norm): LayerNorm((1024,), eps=1e-05, elementwise_affine=True)\n",
       "    )\n",
       "  )\n",
       "  (text_embedder): TextEmbedder(\n",
       "    (text_encoder): CLIPTextModel(\n",
       "      (text_model): CLIPTextTransformer(\n",
       "        (embeddings): CLIPTextEmbeddings(\n",
       "          (token_embedding): Embedding(49408, 1024)\n",
       "          (position_embedding): Embedding(77, 1024)\n",
       "        )\n",
       "        (encoder): CLIPEncoder(\n",
       "          (layers): ModuleList(\n",
       "            (0-22): 23 x CLIPEncoderLayer(\n",
       "              (self_attn): CLIPAttention(\n",
       "                (k_proj): Linear(in_features=1024, out_features=1024, bias=True)\n",
       "                (v_proj): Linear(in_features=1024, out_features=1024, bias=True)\n",
       "                (q_proj): Linear(in_features=1024, out_features=1024, bias=True)\n",
       "                (out_proj): Linear(in_features=1024, out_features=1024, bias=True)\n",
       "              )\n",
       "              (layer_norm1): LayerNorm((1024,), eps=1e-05, elementwise_affine=True)\n",
       "              (mlp): CLIPMLP(\n",
       "                (activation_fn): GELUActivation()\n",
       "                (fc1): Linear(in_features=1024, out_features=4096, bias=True)\n",
       "                (fc2): Linear(in_features=4096, out_features=1024, bias=True)\n",
       "              )\n",
       "              (layer_norm2): LayerNorm((1024,), eps=1e-05, elementwise_affine=True)\n",
       "            )\n",
       "          )\n",
       "        )\n",
       "        (final_layer_norm): LayerNorm((1024,), eps=1e-05, elementwise_affine=True)\n",
       "      )\n",
       "    )\n",
       "  )\n",
       "  (blocks): ModuleList(\n",
       "    (0-23): 24 x DiTBlock(\n",
       "      (norm1): LayerNorm((1024,), eps=1e-06, elementwise_affine=False)\n",
       "      (norm2): LayerNorm((1024,), eps=1e-06, elementwise_affine=False)\n",
       "      (norm3): LayerNorm((1024,), eps=1e-06, elementwise_affine=False)\n",
       "      (norm4): LayerNorm((1024,), eps=1e-06, elementwise_affine=False)\n",
       "      (norm5): LayerNorm((1024,), eps=1e-06, elementwise_affine=False)\n",
       "      (attn): Attention(\n",
       "        (qkv): Linear(in_features=1024, out_features=3072, bias=True)\n",
       "        (q_norm): Identity()\n",
       "        (k_norm): Identity()\n",
       "        (attn_drop): Dropout(p=0.0, inplace=False)\n",
       "        (proj): Linear(in_features=1024, out_features=1024, bias=True)\n",
       "        (proj_drop): Dropout(p=0.0, inplace=False)\n",
       "      )\n",
       "      (attn1): CrossAttention(\n",
       "        (to_q): Linear(in_features=1024, out_features=1024, bias=False)\n",
       "        (to_k): Linear(in_features=1024, out_features=1024, bias=False)\n",
       "        (to_v): Linear(in_features=1024, out_features=1024, bias=False)\n",
       "        (to_out): Sequential(\n",
       "          (0): Linear(in_features=1024, out_features=1024, bias=True)\n",
       "          (1): Dropout(p=0.0, inplace=False)\n",
       "        )\n",
       "      )\n",
       "      (attn2): CrossAttention(\n",
       "        (to_q): Linear(in_features=1024, out_features=1024, bias=False)\n",
       "        (to_k): Linear(in_features=1024, out_features=1024, bias=False)\n",
       "        (to_v): Linear(in_features=1024, out_features=1024, bias=False)\n",
       "        (to_out): Sequential(\n",
       "          (0): Linear(in_features=1024, out_features=1024, bias=True)\n",
       "          (1): Dropout(p=0.0, inplace=False)\n",
       "        )\n",
       "      )\n",
       "      (mlp): Mlp(\n",
       "        (fc1): Linear(in_features=1024, out_features=4096, bias=True)\n",
       "        (act): GELU(approximate='tanh')\n",
       "        (drop1): Dropout(p=0, inplace=False)\n",
       "        (norm): Identity()\n",
       "        (fc2): Linear(in_features=4096, out_features=1024, bias=True)\n",
       "        (drop2): Dropout(p=0, inplace=False)\n",
       "      )\n",
       "      (adaLN_modulation): Sequential(\n",
       "        (0): SiLU()\n",
       "        (1): Linear(in_features=1024, out_features=6144, bias=True)\n",
       "      )\n",
       "    )\n",
       "  )\n",
       "  (final_layer): FinalLayer(\n",
       "    (norm1): LayerNorm((1024,), eps=1e-06, elementwise_affine=False)\n",
       "    (norm2): LayerNorm((1024,), eps=1e-06, elementwise_affine=False)\n",
       "    (norm3): LayerNorm((1024,), eps=1e-06, elementwise_affine=False)\n",
       "    (norm_final): LayerNorm((1024,), eps=1e-06, elementwise_affine=False)\n",
       "    (linear): Linear(in_features=1024, out_features=32, bias=True)\n",
       "    (attn1): CrossAttention(\n",
       "      (to_q): Linear(in_features=1024, out_features=1024, bias=False)\n",
       "      (to_k): Linear(in_features=1024, out_features=1024, bias=False)\n",
       "      (to_v): Linear(in_features=1024, out_features=1024, bias=False)\n",
       "      (to_out): Sequential(\n",
       "        (0): Linear(in_features=1024, out_features=1024, bias=True)\n",
       "        (1): Dropout(p=0.0, inplace=False)\n",
       "      )\n",
       "    )\n",
       "    (attn2): CrossAttention(\n",
       "      (to_q): Linear(in_features=1024, out_features=1024, bias=False)\n",
       "      (to_k): Linear(in_features=1024, out_features=1024, bias=False)\n",
       "      (to_v): Linear(in_features=1024, out_features=1024, bias=False)\n",
       "      (to_out): Sequential(\n",
       "        (0): Linear(in_features=1024, out_features=1024, bias=True)\n",
       "        (1): Dropout(p=0.0, inplace=False)\n",
       "      )\n",
       "    )\n",
       "    (adaLN_modulation): Sequential(\n",
       "      (0): SiLU()\n",
       "      (1): Linear(in_features=1024, out_features=2048, bias=True)\n",
       "    )\n",
       "  )\n",
       ")"
      ]
     },
     "execution_count": 1,
     "metadata": {},
     "output_type": "execute_result"
    }
   ],
   "source": [
    "from models import DiT_models\n",
    "import torch\n",
    "\n",
    "latent_size = 256//8\n",
    "device= 'cuda:2'\n",
    "model = DiT_models['DiT-L/2-Text'](\n",
    "        input_size=latent_size,\n",
    "        # num_classes=args.num_classes\n",
    ").to(device)\n",
    "model.load_state_dict(torch.load('/workspace/austin/huchudle/results/008-DiT-L-2-Text/checkpoints/0333300.pt', map_location=device)['model'])\n",
    "\n",
    "model.eval()\n"
   ]
  },
  {
   "cell_type": "code",
   "execution_count": 3,
   "metadata": {},
   "outputs": [],
   "source": [
    "tokens = torch.zeros(1, 77).to(device, torch.int64) + 7788\n",
    "orig=model.text_embedder(\"\", train=False, token=tokens)"
   ]
  },
  {
   "cell_type": "code",
   "execution_count": 5,
   "metadata": {},
   "outputs": [],
   "source": [
    "model.remove_pos_emb(device)\n",
    "after = model.text_embedder(\"\", train=False, token=tokens)"
   ]
  },
  {
   "cell_type": "code",
   "execution_count": 6,
   "metadata": {},
   "outputs": [
    {
     "data": {
      "text/plain": [
       "(tensor([-1.0480,  0.0387, -1.9429,  ...,  0.0639,  2.0870, -0.5573],\n",
       "        device='cuda:2', grad_fn=<SelectBackward0>),\n",
       " tensor([-1.0480,  0.0387, -1.9429,  ...,  0.0639,  2.0870, -0.5573],\n",
       "        device='cuda:2', grad_fn=<SelectBackward0>))"
      ]
     },
     "execution_count": 6,
     "metadata": {},
     "output_type": "execute_result"
    }
   ],
   "source": [
    "after[0, 0], after[0, 1]"
   ]
  },
  {
   "cell_type": "code",
   "execution_count": 4,
   "metadata": {},
   "outputs": [
    {
     "data": {
      "text/plain": [
       "(tensor([-1.0117, -0.0769, -1.7586,  ...,  0.0954,  1.0750, -0.0861],\n",
       "        device='cuda:2'),\n",
       " tensor([-0.8220,  0.3744, -2.3053,  ...,  0.3900,  0.9271, -0.2098],\n",
       "        device='cuda:2'))"
      ]
     },
     "execution_count": 4,
     "metadata": {},
     "output_type": "execute_result"
    }
   ],
   "source": [
    "orig[0, 0], orig[0, 1]"
   ]
  },
  {
   "cell_type": "code",
   "execution_count": 10,
   "metadata": {},
   "outputs": [
    {
     "data": {
      "text/plain": [
       "(torch.Size([1, 77, 1024]), torch.Size([1, 77, 1024]))"
      ]
     },
     "execution_count": 10,
     "metadata": {},
     "output_type": "execute_result"
    }
   ],
   "source": [
    "after.shape, orig.shape"
   ]
  }
 ],
 "metadata": {
  "kernelspec": {
   "display_name": "base",
   "language": "python",
   "name": "python3"
  },
  "language_info": {
   "codemirror_mode": {
    "name": "ipython",
    "version": 3
   },
   "file_extension": ".py",
   "mimetype": "text/x-python",
   "name": "python",
   "nbconvert_exporter": "python",
   "pygments_lexer": "ipython3",
   "version": "3.10.13"
  }
 },
 "nbformat": 4,
 "nbformat_minor": 2
}
